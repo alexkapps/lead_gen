{
 "cells": [
  {
   "cell_type": "code",
   "execution_count": 90,
   "metadata": {
    "collapsed": true
   },
   "outputs": [],
   "source": [
    "import pandas as pd\n",
    "import geopandas as gpd"
   ]
  },
  {
   "cell_type": "code",
   "execution_count": 91,
   "metadata": {
    "collapsed": true
   },
   "outputs": [],
   "source": [
    "silo_path = '/Users/alexk/indigo_challenge/inputs/silos_ilmenard/silos_ilmenard.shp'\n",
    "\n",
    "parcel_path = '/Users/alexk/indigo_challenge/inputs/parcels_ilmenard/parcels_ilmenard.shp'"
   ]
  },
  {
   "cell_type": "code",
   "execution_count": 92,
   "metadata": {
    "collapsed": true
   },
   "outputs": [],
   "source": [
    "silo_df = gpd.read_file(silo_path)\n",
    "parcel_df = gpd.read_file(parcel_path)"
   ]
  },
  {
   "cell_type": "code",
   "execution_count": 93,
   "metadata": {
    "collapsed": false
   },
   "outputs": [
    {
     "data": {
      "text/html": [
       "<div>\n",
       "<table border=\"1\" class=\"dataframe\">\n",
       "  <thead>\n",
       "    <tr style=\"text-align: right;\">\n",
       "      <th></th>\n",
       "      <th>DIAMETER</th>\n",
       "      <th>geometry</th>\n",
       "    </tr>\n",
       "  </thead>\n",
       "  <tbody>\n",
       "    <tr>\n",
       "      <th>0</th>\n",
       "      <td>5.970181</td>\n",
       "      <td>POLYGON ((-89.761038140355 40.11017998598363, ...</td>\n",
       "    </tr>\n",
       "    <tr>\n",
       "      <th>1</th>\n",
       "      <td>5.782834</td>\n",
       "      <td>POLYGON ((-89.7610309374848 40.110121105254, -...</td>\n",
       "    </tr>\n",
       "    <tr>\n",
       "      <th>2</th>\n",
       "      <td>4.725118</td>\n",
       "      <td>POLYGON ((-89.76101939039121 40.1101153080984,...</td>\n",
       "    </tr>\n",
       "    <tr>\n",
       "      <th>3</th>\n",
       "      <td>10.958176</td>\n",
       "      <td>POLYGON ((-89.7645452732458 40.11338562571487,...</td>\n",
       "    </tr>\n",
       "    <tr>\n",
       "      <th>4</th>\n",
       "      <td>8.454480</td>\n",
       "      <td>POLYGON ((-89.7647079257188 40.11342932677454,...</td>\n",
       "    </tr>\n",
       "  </tbody>\n",
       "</table>\n",
       "</div>"
      ],
      "text/plain": [
       "    DIAMETER                                           geometry\n",
       "0   5.970181  POLYGON ((-89.761038140355 40.11017998598363, ...\n",
       "1   5.782834  POLYGON ((-89.7610309374848 40.110121105254, -...\n",
       "2   4.725118  POLYGON ((-89.76101939039121 40.1101153080984,...\n",
       "3  10.958176  POLYGON ((-89.7645452732458 40.11338562571487,...\n",
       "4   8.454480  POLYGON ((-89.7647079257188 40.11342932677454,..."
      ]
     },
     "execution_count": 93,
     "metadata": {},
     "output_type": "execute_result"
    }
   ],
   "source": [
    "silo_df.head()"
   ]
  },
  {
   "cell_type": "code",
   "execution_count": 94,
   "metadata": {
    "collapsed": false
   },
   "outputs": [
    {
     "data": {
      "text/html": [
       "<div>\n",
       "<table border=\"1\" class=\"dataframe\">\n",
       "  <thead>\n",
       "    <tr style=\"text-align: right;\">\n",
       "      <th></th>\n",
       "      <th>ACRES</th>\n",
       "      <th>ADDRESS</th>\n",
       "      <th>ALTERNATE_</th>\n",
       "      <th>ASSESSED_L</th>\n",
       "      <th>CITY</th>\n",
       "      <th>COUNTY</th>\n",
       "      <th>CURRENT_01</th>\n",
       "      <th>CURRENT_AS</th>\n",
       "      <th>DATE_LAST_</th>\n",
       "      <th>DATE_OF_SA</th>\n",
       "      <th>...</th>\n",
       "      <th>TAXBILL_YE</th>\n",
       "      <th>TAX_BILLED</th>\n",
       "      <th>TAX_CODE</th>\n",
       "      <th>TAX_STATUS</th>\n",
       "      <th>TOWNSHIP</th>\n",
       "      <th>TOWNSHIP_N</th>\n",
       "      <th>VET_FLAG</th>\n",
       "      <th>VEZ_FLAG</th>\n",
       "      <th>XMPT_FLAG</th>\n",
       "      <th>geometry</th>\n",
       "    </tr>\n",
       "  </thead>\n",
       "  <tbody>\n",
       "    <tr>\n",
       "      <th>0</th>\n",
       "      <td>0.04</td>\n",
       "      <td>None</td>\n",
       "      <td>None</td>\n",
       "      <td>None</td>\n",
       "      <td>fancy-prairie-no-3</td>\n",
       "      <td>menard</td>\n",
       "      <td>None</td>\n",
       "      <td>None</td>\n",
       "      <td>None</td>\n",
       "      <td>None</td>\n",
       "      <td>...</td>\n",
       "      <td>None</td>\n",
       "      <td>NaN</td>\n",
       "      <td>None</td>\n",
       "      <td>None</td>\n",
       "      <td>None</td>\n",
       "      <td>None</td>\n",
       "      <td>None</td>\n",
       "      <td>None</td>\n",
       "      <td>None</td>\n",
       "      <td>POLYGON ((-89.59984228998277 39.99621069681282...</td>\n",
       "    </tr>\n",
       "    <tr>\n",
       "      <th>1</th>\n",
       "      <td>0.03</td>\n",
       "      <td>None</td>\n",
       "      <td>None</td>\n",
       "      <td>None</td>\n",
       "      <td>petersburg-east-no-13</td>\n",
       "      <td>menard</td>\n",
       "      <td>None</td>\n",
       "      <td>None</td>\n",
       "      <td>None</td>\n",
       "      <td>None</td>\n",
       "      <td>...</td>\n",
       "      <td>None</td>\n",
       "      <td>NaN</td>\n",
       "      <td>None</td>\n",
       "      <td>None</td>\n",
       "      <td>None</td>\n",
       "      <td>None</td>\n",
       "      <td>None</td>\n",
       "      <td>None</td>\n",
       "      <td>None</td>\n",
       "      <td>POLYGON ((-89.83210357890695 39.99015144928946...</td>\n",
       "    </tr>\n",
       "    <tr>\n",
       "      <th>2</th>\n",
       "      <td>2.17</td>\n",
       "      <td>None</td>\n",
       "      <td>None</td>\n",
       "      <td>None</td>\n",
       "      <td>athens-north-no-2</td>\n",
       "      <td>menard</td>\n",
       "      <td>None</td>\n",
       "      <td>None</td>\n",
       "      <td>None</td>\n",
       "      <td>None</td>\n",
       "      <td>...</td>\n",
       "      <td>None</td>\n",
       "      <td>NaN</td>\n",
       "      <td>None</td>\n",
       "      <td>None</td>\n",
       "      <td>None</td>\n",
       "      <td>None</td>\n",
       "      <td>None</td>\n",
       "      <td>None</td>\n",
       "      <td>None</td>\n",
       "      <td>POLYGON ((-89.75191577222456 39.98237372238361...</td>\n",
       "    </tr>\n",
       "    <tr>\n",
       "      <th>3</th>\n",
       "      <td>0.01</td>\n",
       "      <td>None</td>\n",
       "      <td>None</td>\n",
       "      <td>None</td>\n",
       "      <td>petersburg-north-no-14</td>\n",
       "      <td>menard</td>\n",
       "      <td>None</td>\n",
       "      <td>None</td>\n",
       "      <td>None</td>\n",
       "      <td>None</td>\n",
       "      <td>...</td>\n",
       "      <td>None</td>\n",
       "      <td>NaN</td>\n",
       "      <td>None</td>\n",
       "      <td>None</td>\n",
       "      <td>None</td>\n",
       "      <td>None</td>\n",
       "      <td>None</td>\n",
       "      <td>None</td>\n",
       "      <td>None</td>\n",
       "      <td>POLYGON ((-89.85153763818347 40.0179303771223,...</td>\n",
       "    </tr>\n",
       "    <tr>\n",
       "      <th>4</th>\n",
       "      <td>1.14</td>\n",
       "      <td>None</td>\n",
       "      <td>None</td>\n",
       "      <td>1459840364000</td>\n",
       "      <td>petersburg-south-no-15</td>\n",
       "      <td>menard</td>\n",
       "      <td>SA</td>\n",
       "      <td>2016</td>\n",
       "      <td>None</td>\n",
       "      <td>None</td>\n",
       "      <td>...</td>\n",
       "      <td>2014</td>\n",
       "      <td>0</td>\n",
       "      <td>11004</td>\n",
       "      <td>T</td>\n",
       "      <td>11</td>\n",
       "      <td>T18N R7W</td>\n",
       "      <td>N</td>\n",
       "      <td>N</td>\n",
       "      <td>N</td>\n",
       "      <td>POLYGON ((-89.84594642998294 39.99943392351625...</td>\n",
       "    </tr>\n",
       "  </tbody>\n",
       "</table>\n",
       "<p>5 rows × 94 columns</p>\n",
       "</div>"
      ],
      "text/plain": [
       "   ACRES ADDRESS ALTERNATE_     ASSESSED_L                    CITY  COUNTY  \\\n",
       "0   0.04    None       None           None      fancy-prairie-no-3  menard   \n",
       "1   0.03    None       None           None   petersburg-east-no-13  menard   \n",
       "2   2.17    None       None           None       athens-north-no-2  menard   \n",
       "3   0.01    None       None           None  petersburg-north-no-14  menard   \n",
       "4   1.14    None       None  1459840364000  petersburg-south-no-15  menard   \n",
       "\n",
       "  CURRENT_01 CURRENT_AS DATE_LAST_ DATE_OF_SA  \\\n",
       "0       None       None       None       None   \n",
       "1       None       None       None       None   \n",
       "2       None       None       None       None   \n",
       "3       None       None       None       None   \n",
       "4         SA       2016       None       None   \n",
       "\n",
       "                         ...                         TAXBILL_YE TAX_BILLED  \\\n",
       "0                        ...                               None        NaN   \n",
       "1                        ...                               None        NaN   \n",
       "2                        ...                               None        NaN   \n",
       "3                        ...                               None        NaN   \n",
       "4                        ...                               2014          0   \n",
       "\n",
       "  TAX_CODE TAX_STATUS TOWNSHIP TOWNSHIP_N VET_FLAG VEZ_FLAG  XMPT_FLAG  \\\n",
       "0     None       None     None       None     None     None       None   \n",
       "1     None       None     None       None     None     None       None   \n",
       "2     None       None     None       None     None     None       None   \n",
       "3     None       None     None       None     None     None       None   \n",
       "4    11004          T       11   T18N R7W        N        N          N   \n",
       "\n",
       "                                            geometry  \n",
       "0  POLYGON ((-89.59984228998277 39.99621069681282...  \n",
       "1  POLYGON ((-89.83210357890695 39.99015144928946...  \n",
       "2  POLYGON ((-89.75191577222456 39.98237372238361...  \n",
       "3  POLYGON ((-89.85153763818347 40.0179303771223,...  \n",
       "4  POLYGON ((-89.84594642998294 39.99943392351625...  \n",
       "\n",
       "[5 rows x 94 columns]"
      ]
     },
     "execution_count": 94,
     "metadata": {},
     "output_type": "execute_result"
    }
   ],
   "source": [
    "parcel_df.head()"
   ]
  },
  {
   "cell_type": "code",
   "execution_count": 95,
   "metadata": {
    "collapsed": false
   },
   "outputs": [
    {
     "name": "stdout",
     "output_type": "stream",
     "text": [
      "Index([     u'ACRES',    u'ADDRESS', u'ALTERNATE_', u'ASSESSED_L',\n",
      "             u'CITY',     u'COUNTY', u'CURRENT_01', u'CURRENT_AS',\n",
      "       u'DATE_LAST_', u'DATE_OF_SA',   u'DIS_FLAG', u'DOCUMENT_N',\n",
      "       u'DOCUMEN_01',   u'DRN_FLAG',   u'DV1_FLAG',   u'DV2_FLAG',\n",
      "        u'EAV_VALUE',   u'FAF_FLAG', u'FARM_ACRES', u'FARM_BUILD',\n",
      "        u'FARM_LAND',        u'FID',      u'GEOID', u'GROSS_ACRE',\n",
      "         u'HEL_FLAG',   u'HEP_FLAG',   u'HES_FLAG',   u'HIE_FLAG',\n",
      "         u'HIS_FLAG', u'HOMESITE_A', u'INSTALL_01', u'INSTALL_1_',\n",
      "       u'INSTALL_2_',       u'LASS',      u'LEGAL', u'LOT_DIMENS',\n",
      "       u'MAILTO_ADD', u'MAILTO_CSZ', u'MAILTO_NAM', u'MAILTO__01',\n",
      "       u'NET_SALE_P', u'NON_FARM_B', u'NON_FARM_L',   u'OBJECTID',\n",
      "          u'OGC_FID',      u'OWNER', u'OWNER1_ADD', u'OWNER1_CSZ',\n",
      "       u'OWNER1_DOC',  u'OWNER1_ID', u'OWNER1__01', u'OWNER2_ADD',\n",
      "       u'OWNER2_CSZ', u'OWNER2_DOC',  u'OWNER2_ID', u'OWNER2_NAM',\n",
      "       u'OWNER2__01', u'OWNER3_ADD', u'OWNER3_CSZ', u'OWNER3_DOC',\n",
      "        u'OWNER3_ID', u'OWNER3_NAM', u'OWNER3__01', u'PARCELNUMB',\n",
      "       u'PARCEL_NUM',       u'PATH', u'PRIOR_TAXB', u'PRIOR_T_01',\n",
      "       u'PRIOR_T_02', u'PY_FARM_BL', u'PY_FARM_LA', u'PY_NON_FAR',\n",
      "       u'PY_NON__01',   u'RVT_FLAG',   u'SAF_FLAG',   u'SITE_CSZ',\n",
      "             u'SQFT',      u'STATE', u'TAXBILL_01', u'TAXBILL_AD',\n",
      "       u'TAXBILL_CS', u'TAXBILL_NA', u'TAXBILL_RA', u'TAXBILL_TA',\n",
      "       u'TAXBILL_YE', u'TAX_BILLED',   u'TAX_CODE', u'TAX_STATUS',\n",
      "         u'TOWNSHIP', u'TOWNSHIP_N',   u'VET_FLAG',   u'VEZ_FLAG',\n",
      "        u'XMPT_FLAG',   u'geometry'],\n",
      "      dtype='object')\n"
     ]
    }
   ],
   "source": [
    "headers = parcel_df.columns\n",
    "\n",
    "print headers\n",
    "\n",
    "#for i in parcel_df.columns:\n",
    "    \n",
    "#    print parcel_df[i].unique()"
   ]
  },
  {
   "cell_type": "code",
   "execution_count": 96,
   "metadata": {
    "collapsed": false
   },
   "outputs": [],
   "source": [
    "#for item in parcel_df['OWNER'].unique():\n",
    "        #print item"
   ]
  },
  {
   "cell_type": "code",
   "execution_count": 97,
   "metadata": {
    "collapsed": false
   },
   "outputs": [
    {
     "data": {
      "text/plain": [
       "6250"
      ]
     },
     "execution_count": 97,
     "metadata": {},
     "output_type": "execute_result"
    }
   ],
   "source": [
    "parcel_df['OWNER'].nunique()"
   ]
  },
  {
   "cell_type": "code",
   "execution_count": 98,
   "metadata": {
    "collapsed": false
   },
   "outputs": [
    {
     "data": {
      "text/plain": [
       "11839"
      ]
     },
     "execution_count": 98,
     "metadata": {},
     "output_type": "execute_result"
    }
   ],
   "source": [
    "parcel_df['OWNER'].count()"
   ]
  },
  {
   "cell_type": "code",
   "execution_count": 99,
   "metadata": {
    "collapsed": false
   },
   "outputs": [],
   "source": [
    "#parcel_df[parcel_df['OWNER']=='CLAYTON JACOB E']"
   ]
  },
  {
   "cell_type": "code",
   "execution_count": 100,
   "metadata": {
    "collapsed": false
   },
   "outputs": [
    {
     "data": {
      "text/plain": [
       "CITY OF PETERSBURG             124\n",
       "LAKE PETERSBURG ASSOCIATION     89\n",
       "GRIGSBY FAMILY PARTNERSHIP      67\n",
       "STATE OF ILLINOIS               66\n",
       "ILLINOIS & MIDLAND RAILROAD     63\n",
       "Name: OWNER, dtype: int64"
      ]
     },
     "execution_count": 100,
     "metadata": {},
     "output_type": "execute_result"
    }
   ],
   "source": [
    "parcel_df['OWNER'].value_counts().head()"
   ]
  },
  {
   "cell_type": "code",
   "execution_count": 101,
   "metadata": {
    "collapsed": false
   },
   "outputs": [
    {
     "data": {
      "text/plain": [
       "25158    64\n",
       "25161    37\n",
       "25372    36\n",
       "24107    32\n",
       "18281    29\n",
       "Name: OWNER1_ID, dtype: int64"
      ]
     },
     "execution_count": 101,
     "metadata": {},
     "output_type": "execute_result"
    }
   ],
   "source": [
    "parcel_df['OWNER1_ID'].value_counts().head()"
   ]
  },
  {
   "cell_type": "code",
   "execution_count": 102,
   "metadata": {
    "collapsed": false
   },
   "outputs": [],
   "source": [
    "farm_parcels_df = parcel_df[parcel_df['FARM_ACRES']>0]\n",
    "#farm_parcels_df.sort_values(by='FARM_ACRES')"
   ]
  },
  {
   "cell_type": "code",
   "execution_count": 103,
   "metadata": {
    "collapsed": false
   },
   "outputs": [],
   "source": [
    "farm_parcels_by_owner_df = farm_parcels_df[['OWNER','FARM_ACRES']]"
   ]
  },
  {
   "cell_type": "code",
   "execution_count": 104,
   "metadata": {
    "collapsed": false
   },
   "outputs": [
    {
     "data": {
      "text/html": [
       "<div>\n",
       "<table border=\"1\" class=\"dataframe\">\n",
       "  <thead>\n",
       "    <tr style=\"text-align: right;\">\n",
       "      <th></th>\n",
       "      <th>FARM_ACRES</th>\n",
       "    </tr>\n",
       "    <tr>\n",
       "      <th>OWNER</th>\n",
       "      <th></th>\n",
       "    </tr>\n",
       "  </thead>\n",
       "  <tbody>\n",
       "    <tr>\n",
       "      <th>GRIGSBY FAMILY PARTNERSHIP</th>\n",
       "      <td>4738.60</td>\n",
       "    </tr>\n",
       "    <tr>\n",
       "      <th>AG HOLDINGS PLUS LLC</th>\n",
       "      <td>2362.88</td>\n",
       "    </tr>\n",
       "    <tr>\n",
       "      <th>LOZIER JOHN G</th>\n",
       "      <td>2038.40</td>\n",
       "    </tr>\n",
       "    <tr>\n",
       "      <th>KINCAID MARGARET G TRUSTEE</th>\n",
       "      <td>1874.83</td>\n",
       "    </tr>\n",
       "    <tr>\n",
       "      <th>THOMAS MICHAEL &amp; KEVIN CO-EXEC</th>\n",
       "      <td>1279.62</td>\n",
       "    </tr>\n",
       "  </tbody>\n",
       "</table>\n",
       "</div>"
      ],
      "text/plain": [
       "                                FARM_ACRES\n",
       "OWNER                                     \n",
       "GRIGSBY FAMILY PARTNERSHIP         4738.60\n",
       "AG HOLDINGS PLUS LLC               2362.88\n",
       "LOZIER JOHN G                      2038.40\n",
       "KINCAID MARGARET G TRUSTEE         1874.83\n",
       "THOMAS MICHAEL & KEVIN CO-EXEC     1279.62"
      ]
     },
     "execution_count": 104,
     "metadata": {},
     "output_type": "execute_result"
    }
   ],
   "source": [
    "farm_parcels_by_owner_df\n",
    "\n",
    "owner_farm_acres_sum = farm_parcels_by_owner_df.groupby(['OWNER']).sum()\n",
    "\n",
    "owner_farm_acres_sum.sort_values(by=['FARM_ACRES'], inplace=True, ascending=False)\n",
    "\n",
    "owner_farm_acres_sum.head()"
   ]
  },
  {
   "cell_type": "code",
   "execution_count": 105,
   "metadata": {
    "collapsed": false
   },
   "outputs": [],
   "source": [
    "#OWNER MAY HAVE SILO ON LAND THAT DOES NOT HAVE FARM ACREAGE\n",
    "\n",
    "#parcel_df[parcel_df['OWNER'].isin(owner_farm_acres_sum.OWNER.tolist())]\n",
    "\n",
    "#select unique OWNER values that own farm land\n",
    "    # select all their parcels (even if not including farm land - maybe only if >70% of parcels are farmed - 'farmer confidence metric')\n",
    "    # spatial match between this parcel subset and silos\n",
    "    #screen for silo/circles that are 4-20m in diameter and in groups of 3 or more\n",
    "    # silos - look at diameter\n",
    "    # pull heights based on diameter (using ancillary data source)\n",
    "    \n",
    "    \n",
    "#include lookup table to pull heights based on diameter (maybe create dummy dictionary to store value)\n",
    "###maybe look into pulling info (or sample info) from the linked catalogue\n",
    "\n",
    "\n"
   ]
  },
  {
   "cell_type": "code",
   "execution_count": null,
   "metadata": {
    "collapsed": true
   },
   "outputs": [],
   "source": []
  }
 ],
 "metadata": {
  "kernelspec": {
   "display_name": "Python 2",
   "language": "python",
   "name": "python2"
  },
  "language_info": {
   "codemirror_mode": {
    "name": "ipython",
    "version": 2
   },
   "file_extension": ".py",
   "mimetype": "text/x-python",
   "name": "python",
   "nbconvert_exporter": "python",
   "pygments_lexer": "ipython2",
   "version": "2.7.11"
  }
 },
 "nbformat": 4,
 "nbformat_minor": 0
}
